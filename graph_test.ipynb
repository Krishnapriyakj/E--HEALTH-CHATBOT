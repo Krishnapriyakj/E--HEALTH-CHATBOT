{
 "cells": [
  {
   "cell_type": "code",
   "execution_count": 1,
   "metadata": {},
   "outputs": [
    {
     "name": "stdout",
     "output_type": "stream",
     "text": [
      "Requirement already satisfied: langchain in c:\\users\\asus\\anaconda3\\envs\\.conda\\lib\\site-packages (0.3.16)\n",
      "Requirement already satisfied: langchain_community in c:\\users\\asus\\anaconda3\\envs\\.conda\\lib\\site-packages (0.3.16)\n",
      "Requirement already satisfied: langchain_openai in c:\\users\\asus\\anaconda3\\envs\\.conda\\lib\\site-packages (0.3.2)\n",
      "Requirement already satisfied: langgraph in c:\\users\\asus\\anaconda3\\envs\\.conda\\lib\\site-packages (0.2.68)\n",
      "Requirement already satisfied: PyYAML>=5.3 in c:\\users\\asus\\anaconda3\\envs\\.conda\\lib\\site-packages (from langchain) (6.0.2)\n",
      "Requirement already satisfied: SQLAlchemy<3,>=1.4 in c:\\users\\asus\\anaconda3\\envs\\.conda\\lib\\site-packages (from langchain) (2.0.37)\n",
      "Requirement already satisfied: aiohttp<4.0.0,>=3.8.3 in c:\\users\\asus\\anaconda3\\envs\\.conda\\lib\\site-packages (from langchain) (3.11.11)\n",
      "Requirement already satisfied: async-timeout<5.0.0,>=4.0.0 in c:\\users\\asus\\anaconda3\\envs\\.conda\\lib\\site-packages (from langchain) (4.0.3)\n",
      "Requirement already satisfied: langchain-core<0.4.0,>=0.3.32 in c:\\users\\asus\\anaconda3\\envs\\.conda\\lib\\site-packages (from langchain) (0.3.32)\n",
      "Requirement already satisfied: langchain-text-splitters<0.4.0,>=0.3.3 in c:\\users\\asus\\anaconda3\\envs\\.conda\\lib\\site-packages (from langchain) (0.3.5)\n",
      "Requirement already satisfied: langsmith<0.4,>=0.1.17 in c:\\users\\asus\\anaconda3\\envs\\.conda\\lib\\site-packages (from langchain) (0.3.2)\n",
      "Requirement already satisfied: numpy<2,>=1.22.4 in c:\\users\\asus\\anaconda3\\envs\\.conda\\lib\\site-packages (from langchain) (1.26.4)\n",
      "Requirement already satisfied: pydantic<3.0.0,>=2.7.4 in c:\\users\\asus\\anaconda3\\envs\\.conda\\lib\\site-packages (from langchain) (2.10.6)\n",
      "Requirement already satisfied: requests<3,>=2 in c:\\users\\asus\\anaconda3\\envs\\.conda\\lib\\site-packages (from langchain) (2.32.3)\n",
      "Requirement already satisfied: tenacity!=8.4.0,<10,>=8.1.0 in c:\\users\\asus\\anaconda3\\envs\\.conda\\lib\\site-packages (from langchain) (9.0.0)\n",
      "Requirement already satisfied: dataclasses-json<0.7,>=0.5.7 in c:\\users\\asus\\anaconda3\\envs\\.conda\\lib\\site-packages (from langchain_community) (0.6.7)\n",
      "Requirement already satisfied: httpx-sse<0.5.0,>=0.4.0 in c:\\users\\asus\\anaconda3\\envs\\.conda\\lib\\site-packages (from langchain_community) (0.4.0)\n",
      "Requirement already satisfied: pydantic-settings<3.0.0,>=2.4.0 in c:\\users\\asus\\anaconda3\\envs\\.conda\\lib\\site-packages (from langchain_community) (2.7.1)\n",
      "Requirement already satisfied: openai<2.0.0,>=1.58.1 in c:\\users\\asus\\anaconda3\\envs\\.conda\\lib\\site-packages (from langchain_openai) (1.60.2)\n",
      "Requirement already satisfied: tiktoken<1,>=0.7 in c:\\users\\asus\\anaconda3\\envs\\.conda\\lib\\site-packages (from langchain_openai) (0.8.0)\n",
      "Requirement already satisfied: langgraph-checkpoint<3.0.0,>=2.0.10 in c:\\users\\asus\\anaconda3\\envs\\.conda\\lib\\site-packages (from langgraph) (2.0.10)\n",
      "Requirement already satisfied: langgraph-sdk<0.2.0,>=0.1.42 in c:\\users\\asus\\anaconda3\\envs\\.conda\\lib\\site-packages (from langgraph) (0.1.51)\n",
      "Requirement already satisfied: aiohappyeyeballs>=2.3.0 in c:\\users\\asus\\anaconda3\\envs\\.conda\\lib\\site-packages (from aiohttp<4.0.0,>=3.8.3->langchain) (2.4.4)\n",
      "Requirement already satisfied: aiosignal>=1.1.2 in c:\\users\\asus\\anaconda3\\envs\\.conda\\lib\\site-packages (from aiohttp<4.0.0,>=3.8.3->langchain) (1.3.2)\n",
      "Requirement already satisfied: attrs>=17.3.0 in c:\\users\\asus\\anaconda3\\envs\\.conda\\lib\\site-packages (from aiohttp<4.0.0,>=3.8.3->langchain) (25.1.0)\n",
      "Requirement already satisfied: frozenlist>=1.1.1 in c:\\users\\asus\\anaconda3\\envs\\.conda\\lib\\site-packages (from aiohttp<4.0.0,>=3.8.3->langchain) (1.5.0)\n",
      "Requirement already satisfied: multidict<7.0,>=4.5 in c:\\users\\asus\\anaconda3\\envs\\.conda\\lib\\site-packages (from aiohttp<4.0.0,>=3.8.3->langchain) (6.1.0)\n",
      "Requirement already satisfied: propcache>=0.2.0 in c:\\users\\asus\\anaconda3\\envs\\.conda\\lib\\site-packages (from aiohttp<4.0.0,>=3.8.3->langchain) (0.2.1)\n",
      "Requirement already satisfied: yarl<2.0,>=1.17.0 in c:\\users\\asus\\anaconda3\\envs\\.conda\\lib\\site-packages (from aiohttp<4.0.0,>=3.8.3->langchain) (1.18.3)\n",
      "Requirement already satisfied: marshmallow<4.0.0,>=3.18.0 in c:\\users\\asus\\anaconda3\\envs\\.conda\\lib\\site-packages (from dataclasses-json<0.7,>=0.5.7->langchain_community) (3.26.0)\n",
      "Requirement already satisfied: typing-inspect<1,>=0.4.0 in c:\\users\\asus\\anaconda3\\envs\\.conda\\lib\\site-packages (from dataclasses-json<0.7,>=0.5.7->langchain_community) (0.9.0)\n",
      "Requirement already satisfied: jsonpatch<2.0,>=1.33 in c:\\users\\asus\\anaconda3\\envs\\.conda\\lib\\site-packages (from langchain-core<0.4.0,>=0.3.32->langchain) (1.33)\n",
      "Requirement already satisfied: packaging<25,>=23.2 in c:\\users\\asus\\anaconda3\\envs\\.conda\\lib\\site-packages (from langchain-core<0.4.0,>=0.3.32->langchain) (24.2)\n",
      "Requirement already satisfied: typing-extensions>=4.7 in c:\\users\\asus\\anaconda3\\envs\\.conda\\lib\\site-packages (from langchain-core<0.4.0,>=0.3.32->langchain) (4.12.2)\n",
      "Requirement already satisfied: msgpack<2.0.0,>=1.1.0 in c:\\users\\asus\\anaconda3\\envs\\.conda\\lib\\site-packages (from langgraph-checkpoint<3.0.0,>=2.0.10->langgraph) (1.1.0)\n",
      "Requirement already satisfied: httpx>=0.25.2 in c:\\users\\asus\\anaconda3\\envs\\.conda\\lib\\site-packages (from langgraph-sdk<0.2.0,>=0.1.42->langgraph) (0.28.1)\n",
      "Requirement already satisfied: orjson>=3.10.1 in c:\\users\\asus\\anaconda3\\envs\\.conda\\lib\\site-packages (from langgraph-sdk<0.2.0,>=0.1.42->langgraph) (3.10.15)\n",
      "Requirement already satisfied: requests-toolbelt<2.0.0,>=1.0.0 in c:\\users\\asus\\anaconda3\\envs\\.conda\\lib\\site-packages (from langsmith<0.4,>=0.1.17->langchain) (1.0.0)\n",
      "Requirement already satisfied: zstandard<0.24.0,>=0.23.0 in c:\\users\\asus\\anaconda3\\envs\\.conda\\lib\\site-packages (from langsmith<0.4,>=0.1.17->langchain) (0.23.0)\n",
      "Requirement already satisfied: anyio<5,>=3.5.0 in c:\\users\\asus\\anaconda3\\envs\\.conda\\lib\\site-packages (from openai<2.0.0,>=1.58.1->langchain_openai) (4.8.0)\n",
      "Requirement already satisfied: distro<2,>=1.7.0 in c:\\users\\asus\\anaconda3\\envs\\.conda\\lib\\site-packages (from openai<2.0.0,>=1.58.1->langchain_openai) (1.9.0)\n",
      "Requirement already satisfied: jiter<1,>=0.4.0 in c:\\users\\asus\\anaconda3\\envs\\.conda\\lib\\site-packages (from openai<2.0.0,>=1.58.1->langchain_openai) (0.8.2)\n",
      "Requirement already satisfied: sniffio in c:\\users\\asus\\anaconda3\\envs\\.conda\\lib\\site-packages (from openai<2.0.0,>=1.58.1->langchain_openai) (1.3.1)\n",
      "Requirement already satisfied: tqdm>4 in c:\\users\\asus\\anaconda3\\envs\\.conda\\lib\\site-packages (from openai<2.0.0,>=1.58.1->langchain_openai) (4.67.1)\n",
      "Requirement already satisfied: annotated-types>=0.6.0 in c:\\users\\asus\\anaconda3\\envs\\.conda\\lib\\site-packages (from pydantic<3.0.0,>=2.7.4->langchain) (0.7.0)\n",
      "Requirement already satisfied: pydantic-core==2.27.2 in c:\\users\\asus\\anaconda3\\envs\\.conda\\lib\\site-packages (from pydantic<3.0.0,>=2.7.4->langchain) (2.27.2)\n",
      "Requirement already satisfied: python-dotenv>=0.21.0 in c:\\users\\asus\\anaconda3\\envs\\.conda\\lib\\site-packages (from pydantic-settings<3.0.0,>=2.4.0->langchain_community) (1.0.1)\n",
      "Requirement already satisfied: charset-normalizer<4,>=2 in c:\\users\\asus\\anaconda3\\envs\\.conda\\lib\\site-packages (from requests<3,>=2->langchain) (3.4.1)\n",
      "Requirement already satisfied: idna<4,>=2.5 in c:\\users\\asus\\anaconda3\\envs\\.conda\\lib\\site-packages (from requests<3,>=2->langchain) (3.10)\n",
      "Requirement already satisfied: urllib3<3,>=1.21.1 in c:\\users\\asus\\anaconda3\\envs\\.conda\\lib\\site-packages (from requests<3,>=2->langchain) (2.3.0)\n",
      "Requirement already satisfied: certifi>=2017.4.17 in c:\\users\\asus\\anaconda3\\envs\\.conda\\lib\\site-packages (from requests<3,>=2->langchain) (2024.12.14)\n",
      "Requirement already satisfied: greenlet!=0.4.17 in c:\\users\\asus\\anaconda3\\envs\\.conda\\lib\\site-packages (from SQLAlchemy<3,>=1.4->langchain) (3.1.1)\n",
      "Requirement already satisfied: regex>=2022.1.18 in c:\\users\\asus\\anaconda3\\envs\\.conda\\lib\\site-packages (from tiktoken<1,>=0.7->langchain_openai) (2024.11.6)\n",
      "Requirement already satisfied: exceptiongroup>=1.0.2 in c:\\users\\asus\\anaconda3\\envs\\.conda\\lib\\site-packages (from anyio<5,>=3.5.0->openai<2.0.0,>=1.58.1->langchain_openai) (1.2.2)\n",
      "Requirement already satisfied: httpcore==1.* in c:\\users\\asus\\anaconda3\\envs\\.conda\\lib\\site-packages (from httpx>=0.25.2->langgraph-sdk<0.2.0,>=0.1.42->langgraph) (1.0.7)\n",
      "Requirement already satisfied: h11<0.15,>=0.13 in c:\\users\\asus\\anaconda3\\envs\\.conda\\lib\\site-packages (from httpcore==1.*->httpx>=0.25.2->langgraph-sdk<0.2.0,>=0.1.42->langgraph) (0.14.0)\n",
      "Requirement already satisfied: jsonpointer>=1.9 in c:\\users\\asus\\anaconda3\\envs\\.conda\\lib\\site-packages (from jsonpatch<2.0,>=1.33->langchain-core<0.4.0,>=0.3.32->langchain) (3.0.0)\n",
      "Requirement already satisfied: colorama in c:\\users\\asus\\anaconda3\\envs\\.conda\\lib\\site-packages (from tqdm>4->openai<2.0.0,>=1.58.1->langchain_openai) (0.4.6)\n",
      "Requirement already satisfied: mypy-extensions>=0.3.0 in c:\\users\\asus\\anaconda3\\envs\\.conda\\lib\\site-packages (from typing-inspect<1,>=0.4.0->dataclasses-json<0.7,>=0.5.7->langchain_community) (1.0.0)\n",
      "Note: you may need to restart the kernel to use updated packages.\n"
     ]
    }
   ],
   "source": [
    "%pip install langchain langchain_community langchain_openai langgraph"
   ]
  },
  {
   "cell_type": "code",
   "execution_count": 1,
   "metadata": {},
   "outputs": [],
   "source": [
    "from langchain_core.messages import AIMessage, HumanMessage, SystemMessage\n",
    "from langgraph.graph import MessagesState, StateGraph, START, END\n",
    "from IPython.display import display, Image\n",
    "from langchain_openai import ChatOpenAI\n"
   ]
  },
  {
   "cell_type": "code",
   "execution_count": 3,
   "metadata": {},
   "outputs": [
    {
     "data": {
      "image/png": "[encoded data removed]",
      "text/plain": [
       "<IPython.core.display.Image object>"
      ]
     },
     "metadata": {},
     "output_type": "display_data"
    },
    {
     "name": "stdout",
     "output_type": "stream",
     "text": [
      "Node 1 : \n",
      "{'messages': [HumanMessage(content='Hello, World!', additional_kwargs={}, response_metadata={}, id='9b0c5143-a811-4d2b-bca0-04115c05327c')]}\n",
      "Node 2\n",
      "{'messages': [HumanMessage(content='Hello, World!', additional_kwargs={}, response_metadata={}, id='9b0c5143-a811-4d2b-bca0-04115c05327c'), HumanMessage(content='Who is Linus sebastian', additional_kwargs={}, response_metadata={}, id='6b773fd5-4789-4807-b193-ff3b2ffedfab')]}\n",
      "content=\"Hello!\\n\\nLinus Sebastian is a Canadian YouTube personality and entrepreneur. He was born on April 1, 1985, in Toronto, Ontario, Canada.\\n\\nLinus is best known for his YouTube channel, Linus Tech Tips (LTT), which he founded in 2008. The channel focuses on technology news, reviews, and tutorials, with a strong emphasis on PC hardware, gaming, and computer building.\\n\\nOn LTT, Linus shares his expertise and passion for technology, often featuring in-depth reviews of computer components, such as graphics cards, processors, and motherboards. He also creates content around PC building, overclocking, and cooling systems.\\n\\nOver the years, Linus has become one of the most popular and influential tech YouTubers, with over 15 million subscribers on his channel. He has also expanded his brand to include other ventures, such as:\\n\\n1. PC Part Picker: A website that allows users to build their own custom PCs.\\n2. Linus Tech Tips Store: An online store selling PC hardware and accessories.\\n3. LTT Merchandise: Branded merchandise, including t-shirts, hats, and other items.\\n\\nLinus is known for his engaging personality, humor, and expertise in the tech industry. He has become a household name among tech enthusiasts and has inspired many to explore their passion for technology and computer building.\\n\\nSo, that's Linus Sebastian in a nutshell!\" additional_kwargs={'refusal': None} response_metadata={'token_usage': {'completion_tokens': 287, 'prompt_tokens': 35, 'total_tokens': 322, 'completion_tokens_details': None, 'prompt_tokens_details': None}, 'model_name': 'llama3.2', 'system_fingerprint': 'fp_ollama', 'finish_reason': 'stop', 'logprobs': None} id='run-4e306d39-c5ec-4ba1-aa40-b908f9d1ddbc-0' usage_metadata={'input_tokens': 35, 'output_tokens': 287, 'total_tokens': 322, 'input_token_details': {}, 'output_token_details': {}}\n"
     ]
    },
    {
     "data": {
      "text/plain": [
       "{'messages': [HumanMessage(content='Hello, World!', additional_kwargs={}, response_metadata={}, id='9b0c5143-a811-4d2b-bca0-04115c05327c'),\n",
       "  HumanMessage(content='Who is Linus sebastian', additional_kwargs={}, response_metadata={}, id='6b773fd5-4789-4807-b193-ff3b2ffedfab'),\n",
       "  AIMessage(content=\"Hello!\\n\\nLinus Sebastian is a Canadian YouTube personality and entrepreneur. He was born on April 1, 1985, in Toronto, Ontario, Canada.\\n\\nLinus is best known for his YouTube channel, Linus Tech Tips (LTT), which he founded in 2008. The channel focuses on technology news, reviews, and tutorials, with a strong emphasis on PC hardware, gaming, and computer building.\\n\\nOn LTT, Linus shares his expertise and passion for technology, often featuring in-depth reviews of computer components, such as graphics cards, processors, and motherboards. He also creates content around PC building, overclocking, and cooling systems.\\n\\nOver the years, Linus has become one of the most popular and influential tech YouTubers, with over 15 million subscribers on his channel. He has also expanded his brand to include other ventures, such as:\\n\\n1. PC Part Picker: A website that allows users to build their own custom PCs.\\n2. Linus Tech Tips Store: An online store selling PC hardware and accessories.\\n3. LTT Merchandise: Branded merchandise, including t-shirts, hats, and other items.\\n\\nLinus is known for his engaging personality, humor, and expertise in the tech industry. He has become a household name among tech enthusiasts and has inspired many to explore their passion for technology and computer building.\\n\\nSo, that's Linus Sebastian in a nutshell!\", additional_kwargs={'refusal': None}, response_metadata={'token_usage': {'completion_tokens': 287, 'prompt_tokens': 35, 'total_tokens': 322, 'completion_tokens_details': None, 'prompt_tokens_details': None}, 'model_name': 'llama3.2', 'system_fingerprint': 'fp_ollama', 'finish_reason': 'stop', 'logprobs': None}, id='run-4e306d39-c5ec-4ba1-aa40-b908f9d1ddbc-0', usage_metadata={'input_tokens': 35, 'output_tokens': 287, 'total_tokens': 322, 'input_token_details': {}, 'output_token_details': {}})]}"
      ]
     },
     "execution_count": 3,
     "metadata": {},
     "output_type": "execute_result"
    }
   ],
   "source": [
    "\n",
    "class State(MessagesState):\n",
    "    pass\n",
    "\n",
    "    \n",
    "llm = ChatOpenAI(temperature=0, model=\"llama3.2\", base_url=\"http://localhost:11434/v1\", api_key=\"llama3.2\")\n",
    "\n",
    "def node_1(state: State):\n",
    "    print(\"Node 1 : \")\n",
    "    print(state)\n",
    "    return {\"messages\": [HumanMessage(content=\"Who is Linus sebastian\")]}\n",
    "\n",
    "def node_2(state: State):\n",
    "    print(\"Node 2\")\n",
    "    print(state)\n",
    "    res = llm.invoke(state[\"messages\"])\n",
    "    print(res)\n",
    "    return {\"messages\": [res]}\n",
    "\n",
    "builder = StateGraph(State)\n",
    "\n",
    "builder.add_node(\"node1\",node_1)\n",
    "builder.add_node(\"node2\", node_2)\n",
    "builder.add_edge(\"node1\",\"node2\")\n",
    "builder.add_edge(START, \"node1\")\n",
    "builder.add_edge(\"node2\", END)\n",
    "c = builder.compile()\n",
    "\n",
    "display(Image(c.get_graph().draw_mermaid_png()))\n",
    "response = c.invoke({\"messages\": HumanMessage(content=\"Hello, World!\")})\n",
    "\n",
    "response"
   ]
  }
 ],
 "metadata": {
  "kernelspec": {
   "display_name": ".conda",
   "language": "python",
   "name": "python3"
  },
  "language_info": {
   "codemirror_mode": {
    "name": "ipython",
    "version": 3
   },
   "file_extension": ".py",
   "mimetype": "text/x-python",
   "name": "python",
   "nbconvert_exporter": "python",
   "pygments_lexer": "ipython3",
   "version": "3.10.16"
  }
 },
 "nbformat": 4,
 "nbformat_minor": 2
}
