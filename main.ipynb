{
 "cells": [
  {
   "cell_type": "code",
   "execution_count": 1,
   "metadata": {},
   "outputs": [],
   "source": [
    "import seaborn as sns\n",
    "import pandas as pd\n",
    "from sklearn.metrics import accuracy_score\n",
    "from sklearn.model_selection import train_test_split\n",
    "from sklearn.preprocessing import LabelEncoder, StandardScaler\n",
    "from sklearn.ensemble import RandomForestClassifier\n",
    "from typing import Tuple\n"
   ]
  },
  {
   "cell_type": "code",
   "execution_count": 2,
   "metadata": {},
   "outputs": [],
   "source": [
    "def get_classification_model() -> Tuple[RandomForestClassifier, StandardScaler, LabelEncoder]:\n",
    "    # Load dataset from the Excel file\n",
    "    file_path = './content/cancer patient data sets.xlsx'\n",
    "    df = pd.read_excel(file_path)\n",
    "\n",
    "    label_encoder = LabelEncoder()\n",
    "    df['Gender'] = label_encoder.fit_transform(df['Gender'])\n",
    "    df['Level'] = label_encoder.fit_transform(df['Level'])\n",
    "\n",
    "    X = df.drop(columns=['Patient Id', 'Level'])  # Drop non-predictive columns\n",
    "    y = df['Level']\n",
    "\n",
    "    scaler = StandardScaler()\n",
    "    X_scaled = scaler.fit_transform(X)\n",
    "    X_train, X_test, y_train, y_test = train_test_split(X_scaled, y, test_size=0.2, random_state=42)\n",
    "    model = RandomForestClassifier(random_state=42)\n",
    "    model.fit(X_train, y_train)\n",
    "\n",
    "    y_pred = model.predict(X_test)\n",
    "    accuracy = accuracy_score(y_test, y_pred)\n",
    "\n",
    "    print(f\"Model Accuracy: {accuracy * 100:.2f}%\")\n",
    "\n",
    "    return model, scaler, label_encoder\n"
   ]
  },
  {
   "cell_type": "code",
   "execution_count": 3,
   "metadata": {},
   "outputs": [],
   "source": [
    "def cancer_questionaire_tool():\n",
    "    \"\"\"\n",
    "    A Function to evaluate chance of cancer. Use the tool when someone asks to evaluate their chances of being infected by cancer.\n",
    "    Output: The level of Chance Low, Medium, High\n",
    "    \"\"\"\n",
    "    questions = [\n",
    "    \"What is your age?\",\n",
    "    \"What is your gender? (1: Female, 2: Male)\",\n",
    "    \"Rate the air pollution in your area (1 to 10):\",\n",
    "    \"Rate your alcohol consumption (1 to 10):\",\n",
    "    \"Rate the severity of your dust allergy (1 to 10):\",\n",
    "    \"Rate your exposure to occupational hazards (1 to 10):\",\n",
    "    \"Rate your genetic risk of cancer (1 to 10):\",\n",
    "    \"Rate the severity of your chronic lung disease (1 to 10):\",\n",
    "    \"Rate how balanced your diet is (1 to 10):\",\n",
    "    \"Rate your obesity level (1 to 10):\",\n",
    "    \"Rate the level of smoking (1 to 10):\",\n",
    "    \"Rate the passive smoker risk (1 to 10):\",\n",
    "    \"Rate your chest pain severity (1 to 10):\",\n",
    "    \"Rate your coughing blood level (1 to 10):\",\n",
    "    \"Rate your fatigue level (1 to 10):\",\n",
    "    \"Rate your weight loss severity (1 to 10):\",\n",
    "    \"Rate your shortness of breath severity (1 to 10):\",\n",
    "    \"Rate your wheezing level (1 to 10):\",\n",
    "    \"Rate the swallowing difficulty (1 to 10):\",\n",
    "    \"Rate the clubbing of your finger nails (1 to 10):\",\n",
    "    \"Rate the frequency of colds (1 to 10):\",\n",
    "    \"Rate your dry cough level (1 to 10):\",\n",
    "    \"Rate your snoring severity (1 to 10):\"\n",
    "    ]\n",
    "    model, scaler, encoder = get_classification_model()\n",
    "    print(\"\\nPlease answer the following questions:\")\n",
    "    user_input = []\n",
    "    for question in questions:\n",
    "        answer = float(input(question))\n",
    "        user_input.append(answer)\n",
    "\n",
    "    # Preprocess user input\n",
    "    user_input_scaled = scaler.transform([user_input])  # Match user input to dataset features\n",
    "\n",
    "    # Make a prediction\n",
    "    prediction = model.predict(user_input_scaled)\n",
    "    predicted_level = encoder.inverse_transform(prediction)\n",
    "\n",
    "    print(f\"\\nPredicted Cancer Risk Level: {predicted_level[0]}\")\n",
    "    \n",
    "    return predicted_level[0]"
   ]
  },
  {
   "cell_type": "code",
   "execution_count": 11,
   "metadata": {},
   "outputs": [
    {
     "name": "stdout",
     "output_type": "stream",
     "text": [
      "Model Accuracy: 100.00%\n",
      "\n",
      "Please answer the following questions:\n"
     ]
    },
    {
     "ename": "ValueError",
     "evalue": "could not convert string to float: ''",
     "output_type": "error",
     "traceback": [
      "\u001b[1;31m---------------------------------------------------------------------------\u001b[0m",
      "\u001b[1;31mValueError\u001b[0m                                Traceback (most recent call last)",
      "Cell \u001b[1;32mIn[11], line 3\u001b[0m\n\u001b[0;32m      1\u001b[0m \u001b[38;5;66;03m#Test cell\u001b[39;00m\n\u001b[1;32m----> 3\u001b[0m \u001b[43mcancer_questionaire_tool\u001b[49m\u001b[43m(\u001b[49m\u001b[43m)\u001b[49m\n",
      "Cell \u001b[1;32mIn[10], line 32\u001b[0m, in \u001b[0;36mcancer_questionaire_tool\u001b[1;34m()\u001b[0m\n\u001b[0;32m     30\u001b[0m user_input \u001b[38;5;241m=\u001b[39m []\n\u001b[0;32m     31\u001b[0m \u001b[38;5;28;01mfor\u001b[39;00m question \u001b[38;5;129;01min\u001b[39;00m questions:\n\u001b[1;32m---> 32\u001b[0m     answer \u001b[38;5;241m=\u001b[39m \u001b[38;5;28;43mfloat\u001b[39;49m\u001b[43m(\u001b[49m\u001b[38;5;28;43minput\u001b[39;49m\u001b[43m(\u001b[49m\u001b[43mquestion\u001b[49m\u001b[43m)\u001b[49m\u001b[43m)\u001b[49m\n\u001b[0;32m     33\u001b[0m     user_input\u001b[38;5;241m.\u001b[39mappend(answer)\n\u001b[0;32m     35\u001b[0m \u001b[38;5;66;03m# Preprocess user input\u001b[39;00m\n",
      "\u001b[1;31mValueError\u001b[0m: could not convert string to float: ''"
     ]
    }
   ],
   "source": [
    "#Test cell\n",
    "\n",
    "cancer_questionaire_tool()"
   ]
  },
  {
   "cell_type": "code",
   "execution_count": 74,
   "metadata": {},
   "outputs": [],
   "source": [
    "def appointment_registration(time: str, date:str):\n",
    "    \"\"\"\n",
    "        A tool call for appointment registration on hospital departments\n",
    "        accepts two parameters\n",
    "\n",
    "        time: Time of appointment\n",
    "        date: Date of appointment\n",
    "\n",
    "        return 'Success' or 'Slot Unavailable' for appointment possible or slot unavailable\n",
    "    \"\"\"\n",
    "    # mysql connect\n",
    "    # try booking\n",
    "    # if fails return \"Slot Available\"\n",
    "    # if sucess return \"Success\"\n",
    "    return \"Slot Unavailable\""
   ]
  },
  {
   "cell_type": "code",
   "execution_count": 75,
   "metadata": {},
   "outputs": [],
   "source": [
    "from langchain_core.messages import AIMessage, HumanMessage, SystemMessage\n",
    "from langgraph.graph import MessagesState, StateGraph, START, END\n",
    "from langgraph.prebuilt import ToolNode, tools_condition\n",
    "from IPython.display import display, Image\n",
    "from langchain_openai import ChatOpenAI"
   ]
  },
  {
   "cell_type": "code",
   "execution_count": 76,
   "metadata": {},
   "outputs": [
    {
     "data": {
      "text/plain": [
       "RunnableBinding(bound=ChatOpenAI(client=<openai.resources.chat.completions.Completions object at 0x0000021577FBDCC0>, async_client=<openai.resources.chat.completions.AsyncCompletions object at 0x0000021577FBC100>, root_client=<openai.OpenAI object at 0x0000021578012E60>, root_async_client=<openai.AsyncOpenAI object at 0x0000021577FBDCF0>, model_name='llama3.2-optimized', temperature=0.0, model_kwargs={}, openai_api_key=SecretStr('**********'), openai_api_base='http://localhost:11434/v1'), kwargs={'tools': [{'type': 'function', 'function': {'name': 'cancer_questionaire_tool', 'description': 'A Function to evaluate chance of cancer. Use the tool when someone asks to evaluate their chances of being infected by cancer.\\nOutput: The level of Chance Low, Medium, High', 'parameters': {'properties': {}, 'type': 'object'}}}, {'type': 'function', 'function': {'name': 'appointment_registration', 'description': 'A tool call for appointment registration on hospital departments\\naccepts two parameters time: Time of appointment\\ndate: Date of appointment return Success or Slot Unavailable for appointment possible or slot unavailable', 'parameters': {'properties': {'time': {'type': 'string'}, 'date': {'type': 'string'}}, 'required': ['time', 'date'], 'type': 'object'}}}]}, config={}, config_factories=[])"
      ]
     },
     "execution_count": 76,
     "metadata": {},
     "output_type": "execute_result"
    }
   ],
   "source": [
    "class State(MessagesState):\n",
    "    pass\n",
    "\n",
    "llm = ChatOpenAI(temperature=0, model=\"llama3.2-optimized\", base_url=\"http://localhost:11434/v1\", api_key=\"llama3.2\")\n",
    "tools = [cancer_questionaire_tool, appointment_registration]\n",
    "tooler = llm.bind_tools(tools)\n",
    "tooler"
   ]
  },
  {
   "cell_type": "code",
   "execution_count": 77,
   "metadata": {},
   "outputs": [],
   "source": [
    "def tool_llm_node(state:State):\n",
    "    return {\"messages\": tooler.invoke(state[\"messages\"])}"
   ]
  },
  {
   "cell_type": "code",
   "execution_count": 78,
   "metadata": {},
   "outputs": [],
   "source": [
    "graph = StateGraph(State)\n",
    "graph.add_node(\"assistant\", tool_llm_node)\n",
    "graph.add_node(\"tools\", ToolNode(tools))\n",
    "\n",
    "graph.add_edge(START, \"assistant\")\n",
    "graph.add_conditional_edges(\"assistant\", tools_condition)\n",
    "graph.add_edge(\"tools\", \"assistant\")\n",
    "\n",
    "react = graph.compile()\n"
   ]
  },
  {
   "cell_type": "code",
   "execution_count": 66,
   "metadata": {},
   "outputs": [
    {
     "data": {
      "image/png": "[encoded data removed]",
      "text/plain": [
       "<IPython.core.display.Image object>"
      ]
     },
     "metadata": {},
     "output_type": "display_data"
    }
   ],
   "source": [
    "display(Image(react.get_graph(xray=True).draw_mermaid_png()))\n"
   ]
  },
  {
   "cell_type": "code",
   "execution_count": 79,
   "metadata": {},
   "outputs": [
    {
     "name": "stdout",
     "output_type": "stream",
     "text": [
      "{'messages': [HumanMessage(content='Please book an appointment on 04/02/2025 on 4:00 PM', additional_kwargs={}, response_metadata={}, id='966b7b84-243b-4a30-8048-a5e02137641f'), AIMessage(content='', additional_kwargs={'tool_calls': [{'id': 'call_5eoetftc', 'function': {'arguments': '{\"date\":\"04/02/2025\",\"time\":\"4:00 PM\"}', 'name': 'appointment_registration'}, 'type': 'function', 'index': 0}], 'refusal': None}, response_metadata={'token_usage': {'completion_tokens': 31, 'prompt_tokens': 305, 'total_tokens': 336, 'completion_tokens_details': None, 'prompt_tokens_details': None}, 'model_name': 'llama3.2-optimized', 'system_fingerprint': 'fp_ollama', 'finish_reason': 'tool_calls', 'logprobs': None}, id='run-601aea0e-8654-456f-9b14-c7d783daec9c-0', tool_calls=[{'name': 'appointment_registration', 'args': {'date': '04/02/2025', 'time': '4:00 PM'}, 'id': 'call_5eoetftc', 'type': 'tool_call'}], usage_metadata={'input_tokens': 305, 'output_tokens': 31, 'total_tokens': 336, 'input_token_details': {}, 'output_token_details': {}}), ToolMessage(content='Slot Unavailable', name='appointment_registration', id='55d89cea-d2d9-43dd-8d3f-6806224fc979', tool_call_id='call_5eoetftc'), AIMessage(content='Unfortunately, the time slot you requested is not available. Would you like to schedule an appointment at a different time?', additional_kwargs={'refusal': None}, response_metadata={'token_usage': {'completion_tokens': 24, 'prompt_tokens': 116, 'total_tokens': 140, 'completion_tokens_details': None, 'prompt_tokens_details': None}, 'model_name': 'llama3.2-optimized', 'system_fingerprint': 'fp_ollama', 'finish_reason': 'stop', 'logprobs': None}, id='run-c62e2097-5552-40c9-80c8-2b1ac2e27197-0', usage_metadata={'input_tokens': 116, 'output_tokens': 24, 'total_tokens': 140, 'input_token_details': {}, 'output_token_details': {}})]}\n",
      "================================\u001b[1m Human Message \u001b[0m=================================\n",
      "\n",
      "Please book an appointment on 04/02/2025 on 4:00 PM\n",
      "==================================\u001b[1m Ai Message \u001b[0m==================================\n",
      "Tool Calls:\n",
      "  appointment_registration (call_5eoetftc)\n",
      " Call ID: call_5eoetftc\n",
      "  Args:\n",
      "    date: 04/02/2025\n",
      "    time: 4:00 PM\n",
      "=================================\u001b[1m Tool Message \u001b[0m=================================\n",
      "Name: appointment_registration\n",
      "\n",
      "Slot Unavailable\n",
      "==================================\u001b[1m Ai Message \u001b[0m==================================\n",
      "\n",
      "Unfortunately, the time slot you requested is not available. Would you like to schedule an appointment at a different time?\n"
     ]
    }
   ],
   "source": [
    "inp = input(\"Prompt : \")\n",
    "messages = react.invoke({\"messages\": [HumanMessage(content=inp)]})\n",
    "\n",
    "print(messages)\n",
    "for m in messages['messages']:\n",
    "    m.pretty_print()\n",
    "\n",
    "\n"
   ]
  }
 ],
 "metadata": {
  "kernelspec": {
   "display_name": ".conda",
   "language": "python",
   "name": "python3"
  },
  "language_info": {
   "codemirror_mode": {
    "name": "ipython",
    "version": 3
   },
   "file_extension": ".py",
   "mimetype": "text/x-python",
   "name": "python",
   "nbconvert_exporter": "python",
   "pygments_lexer": "ipython3",
   "version": "3.10.16"
  }
 },
 "nbformat": 4,
 "nbformat_minor": 2
}
