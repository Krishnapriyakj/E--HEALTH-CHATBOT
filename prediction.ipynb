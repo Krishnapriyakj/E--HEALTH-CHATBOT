{
 "cells": [
  {
   "cell_type": "code",
   "execution_count": 5,
   "metadata": {},
   "outputs": [],
   "source": [
    "import seaborn as sns\n",
    "import pandas as pd\n",
    "from sklearn.metrics import accuracy_score\n",
    "from sklearn.model_selection import train_test_split\n",
    "from sklearn.preprocessing import LabelEncoder, StandardScaler\n",
    "from sklearn.ensemble import RandomForestClassifier"
   ]
  },
  {
   "cell_type": "code",
   "execution_count": null,
   "metadata": {},
   "outputs": [],
   "source": [
    "# Load dataset from the Excel file\n",
    "file_path = './content/cancer patient data sets.xlsx'\n",
    "df = pd.read_excel(file_path)\n",
    "\n",
    "label_encoder = LabelEncoder()\n",
    "df['Gender'] = label_encoder.fit_transform(df['Gender'])\n",
    "df['Level'] = label_encoder.fit_transform(df['Level'])\n",
    "\n",
    "X = df.drop(columns=['Patient Id', 'Level'])  # Drop non-predictive columns\n",
    "y = df['Level']\n",
    "\n",
    "scaler = StandardScaler()\n",
    "X_scaled = scaler.fit_transform(X)\n",
    "X_train, X_test, y_train, y_test = train_test_split(X_scaled, y, test_size=0.2, random_state=42)"
   ]
  },
  {
   "cell_type": "code",
   "execution_count": 8,
   "metadata": {},
   "outputs": [
    {
     "name": "stdout",
     "output_type": "stream",
     "text": [
      "Model Accuracy: 100.00%\n"
     ]
    }
   ],
   "source": [
    "# Model training\n",
    "model = RandomForestClassifier(random_state=42)\n",
    "model.fit(X_train, y_train)\n",
    "\n",
    "y_pred = model.predict(X_test)\n",
    "accuracy = accuracy_score(y_test, y_pred)\n",
    "\n",
    "print(f\"Model Accuracy: {accuracy * 100:.2f}%\")"
   ]
  },
  {
   "cell_type": "code",
   "execution_count": 11,
   "metadata": {},
   "outputs": [],
   "source": [
    "# export this model to pickle\n",
    "with open('cancer_prediction_model.pkl', 'wb') as file:\n",
    "    pickle.dump(model, file)"
   ]
  },
  {
   "cell_type": "code",
   "execution_count": 12,
   "metadata": {},
   "outputs": [],
   "source": [
    "questions = [\n",
    "    \"What is your age?\",\n",
    "    \"What is your gender? (1: Female, 2: Male)\",\n",
    "    \"Rate the air pollution in your area (1 to 10):\",\n",
    "    \"Rate your alcohol consumption (1 to 10):\",\n",
    "    \"Rate the severity of your dust allergy (1 to 10):\",\n",
    "    \"Rate your exposure to occupational hazards (1 to 10):\",\n",
    "    \"Rate your genetic risk of cancer (1 to 10):\",\n",
    "    \"Rate the severity of your chronic lung disease (1 to 10):\",\n",
    "    \"Rate how balanced your diet is (1 to 10):\",\n",
    "    \"Rate your obesity level (1 to 10):\",\n",
    "    \"Rate the level of smoking (1 to 10):\",\n",
    "    \"Rate the passive smoker risk (1 to 10):\",\n",
    "    \"Rate your chest pain severity (1 to 10):\",\n",
    "    \"Rate your coughing blood level (1 to 10):\",\n",
    "    \"Rate your fatigue level (1 to 10):\",\n",
    "    \"Rate your weight loss severity (1 to 10):\",\n",
    "    \"Rate your shortness of breath severity (1 to 10):\",\n",
    "    \"Rate your wheezing level (1 to 10):\",\n",
    "    \"Rate the swallowing difficulty (1 to 10):\",\n",
    "    \"Rate the clubbing of your finger nails (1 to 10):\",\n",
    "    \"Rate the frequency of colds (1 to 10):\",\n",
    "    \"Rate your dry cough level (1 to 10):\",\n",
    "    \"Rate your snoring severity (1 to 10):\"\n",
    "]\n",
    "\n",
    "\n",
    "def cancer_prediction():\n",
    "    # Open cancer_prediction_model.pkl into variable model\n",
    "    model = None\n",
    "    \n",
    "    try:\n",
    "        with open('cancer_prediction_model.pkl', 'rb') as file:\n",
    "            model = pickle.load(file)\n",
    "    except FileNotFoundError:\n",
    "        print(\"No model detected\")\n",
    "        return\n",
    "        \n",
    "    if model == None:\n",
    "        print(\"No model detected\")\n",
    "        return\n",
    "        \n",
    "    print(\"\\nPlease answer the following questions:\")\n",
    "    user_input = []\n",
    "    for question in questions:\n",
    "        answer = float(input(question))\n",
    "        user_input.append(answer)\n",
    "\n",
    "    # Preprocess user input\n",
    "    user_input_scaled = scaler.transform([user_input])  # Match user input to dataset features\n",
    "\n",
    "    # Make a prediction\n",
    "    prediction = model.predict(user_input_scaled)\n",
    "    predicted_level = label_encoder.inverse_transform(prediction)\n",
    "\n",
    "    print(f\"\\nPredicted Cancer Risk Level: {predicted_level[0]}\")\n",
    "    \n",
    "    return predicted_level[0]"
   ]
  }
 ],
 "metadata": {
  "kernelspec": {
   "display_name": ".conda",
   "language": "python",
   "name": "python3"
  },
  "language_info": {
   "codemirror_mode": {
    "name": "ipython",
    "version": 3
   },
   "file_extension": ".py",
   "mimetype": "text/x-python",
   "name": "python",
   "nbconvert_exporter": "python",
   "pygments_lexer": "ipython3",
   "version": "3.10.16"
  }
 },
 "nbformat": 4,
 "nbformat_minor": 2
}
